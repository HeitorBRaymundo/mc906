{
 "cells": [
  {
   "cell_type": "code",
   "execution_count": 1,
   "metadata": {
    "pycharm": {
     "name": "#%%\n"
    }
   },
   "outputs": [],
   "source": [
    "from sklearn.linear_model import LogisticRegression\n",
    "from sklearn.neural_network import MLPClassifier\n",
    "from sklearn.ensemble import RandomForestClassifier\n",
    "from sklearn.neighbors import KNeighborsClassifier, DistanceMetric\n",
    "from sklearn.preprocessing import MinMaxScaler, StandardScaler\n",
    "from sklearn.pipeline import Pipeline\n",
    "from data import load_database_train\n",
    "from preprocessing import InterpolateRawData\n",
    "from train import grid_search, scikit_train_validate\n",
    "from sklearn.model_selection import cross_val_score\n",
    "from cross_validation import cv_folds_author\n",
    "import numpy as np\n",
    "from plotter import plot_all_readings\n",
    "\n",
    "\n",
    "%matplotlib inline"
   ]
  },
  {
   "cell_type": "code",
   "execution_count": 2,
   "metadata": {
    "pycharm": {
     "name": "#%%\n"
    }
   },
   "outputs": [],
   "source": [
    "database_train = load_database_train()\n",
    "X_processed = InterpolateRawData(num_samples=40).fit_transform(database_train.X)"
   ]
  },
  {
   "cell_type": "markdown",
   "metadata": {},
   "source": [
    "## KNN - Kth Nearest Neighbors"
   ]
  },
  {
   "cell_type": "markdown",
   "metadata": {},
   "source": [
    "A classe KNeighborsClassifier implementa classificação através do algoritmo de voto dos k vizinhos mais próximos.\n",
    "Vamos analisar como os parâmetros deste algoritmo funcionam para classicação dos feitiços."
   ]
  },
  {
   "cell_type": "code",
   "execution_count": 3,
   "metadata": {
    "scrolled": false
   },
   "outputs": [
    {
     "name": "stdout",
     "output_type": "stream",
     "text": [
      "dict_keys(['memory', 'steps', 'verbose', 'knn', 'knn__algorithm', 'knn__leaf_size', 'knn__metric', 'knn__metric_params', 'knn__n_jobs', 'knn__n_neighbors', 'knn__p', 'knn__weights'])\n",
      "Fitting 5 folds for each of 30 candidates, totalling 150 fits\n"
     ]
    },
    {
     "name": "stderr",
     "output_type": "stream",
     "text": [
      "[Parallel(n_jobs=6)]: Using backend LokyBackend with 6 concurrent workers.\n",
      "[Parallel(n_jobs=6)]: Done   1 tasks      | elapsed:    4.9s\n",
      "[Parallel(n_jobs=6)]: Done   6 tasks      | elapsed:    5.1s\n",
      "[Parallel(n_jobs=6)]: Done  13 tasks      | elapsed:    6.0s\n",
      "[Parallel(n_jobs=6)]: Done  20 tasks      | elapsed:    6.6s\n",
      "[Parallel(n_jobs=6)]: Done  29 tasks      | elapsed:    7.4s\n",
      "[Parallel(n_jobs=6)]: Done  38 tasks      | elapsed:    8.5s\n",
      "[Parallel(n_jobs=6)]: Done  49 tasks      | elapsed:   10.3s\n",
      "[Parallel(n_jobs=6)]: Done  60 tasks      | elapsed:   11.6s\n",
      "[Parallel(n_jobs=6)]: Done  73 tasks      | elapsed:   13.8s\n",
      "[Parallel(n_jobs=6)]: Done  86 tasks      | elapsed:   15.0s\n",
      "[Parallel(n_jobs=6)]: Done 101 tasks      | elapsed:   22.1s\n",
      "[Parallel(n_jobs=6)]: Done 116 tasks      | elapsed:   34.1s\n",
      "[Parallel(n_jobs=6)]: Done 133 tasks      | elapsed:   51.3s\n",
      "[Parallel(n_jobs=6)]: Done 150 out of 150 | elapsed:  1.1min finished\n"
     ]
    },
    {
     "data": {
      "text/html": [
       "<h3>Relatório dos experimentos: </h3>"
      ],
      "text/plain": [
       "<IPython.core.display.HTML object>"
      ]
     },
     "metadata": {},
     "output_type": "display_data"
    },
    {
     "data": {
      "text/html": [
       "<div>\n",
       "<style scoped>\n",
       "    .dataframe tbody tr th:only-of-type {\n",
       "        vertical-align: middle;\n",
       "    }\n",
       "\n",
       "    .dataframe tbody tr th {\n",
       "        vertical-align: top;\n",
       "    }\n",
       "\n",
       "    .dataframe thead th {\n",
       "        text-align: right;\n",
       "    }\n",
       "</style>\n",
       "<table border=\"1\" class=\"dataframe\">\n",
       "  <thead>\n",
       "    <tr style=\"text-align: right;\">\n",
       "      <th></th>\n",
       "      <th>params</th>\n",
       "      <th>mean_train_score</th>\n",
       "      <th>std_train_score</th>\n",
       "      <th>mean_test_score</th>\n",
       "      <th>std_test_score</th>\n",
       "    </tr>\n",
       "  </thead>\n",
       "  <tbody>\n",
       "    <tr>\n",
       "      <th>0</th>\n",
       "      <td>{'knn__metric': 'euclidean', 'knn__n_neighbors': 5, 'knn__p': 3, 'knn__weights': 'uniform'}</td>\n",
       "      <td>0.97</td>\n",
       "      <td>0.01</td>\n",
       "      <td>0.70</td>\n",
       "      <td>0.21</td>\n",
       "    </tr>\n",
       "    <tr>\n",
       "      <th>1</th>\n",
       "      <td>{'knn__metric': 'euclidean', 'knn__n_neighbors': 5, 'knn__p': 3, 'knn__weights': 'distance'}</td>\n",
       "      <td>1.00</td>\n",
       "      <td>0.00</td>\n",
       "      <td>0.70</td>\n",
       "      <td>0.20</td>\n",
       "    </tr>\n",
       "    <tr>\n",
       "      <th>2</th>\n",
       "      <td>{'knn__metric': 'euclidean', 'knn__n_neighbors': 15, 'knn__p': 3, 'knn__weights': 'uniform'}</td>\n",
       "      <td>0.90</td>\n",
       "      <td>0.03</td>\n",
       "      <td>0.70</td>\n",
       "      <td>0.17</td>\n",
       "    </tr>\n",
       "    <tr>\n",
       "      <th>3</th>\n",
       "      <td>{'knn__metric': 'euclidean', 'knn__n_neighbors': 15, 'knn__p': 3, 'knn__weights': 'distance'}</td>\n",
       "      <td>1.00</td>\n",
       "      <td>0.00</td>\n",
       "      <td>0.71</td>\n",
       "      <td>0.17</td>\n",
       "    </tr>\n",
       "    <tr>\n",
       "      <th>4</th>\n",
       "      <td>{'knn__metric': 'euclidean', 'knn__n_neighbors': 21, 'knn__p': 3, 'knn__weights': 'uniform'}</td>\n",
       "      <td>0.88</td>\n",
       "      <td>0.03</td>\n",
       "      <td>0.68</td>\n",
       "      <td>0.16</td>\n",
       "    </tr>\n",
       "    <tr>\n",
       "      <th>5</th>\n",
       "      <td>{'knn__metric': 'euclidean', 'knn__n_neighbors': 21, 'knn__p': 3, 'knn__weights': 'distance'}</td>\n",
       "      <td>1.00</td>\n",
       "      <td>0.00</td>\n",
       "      <td>0.70</td>\n",
       "      <td>0.16</td>\n",
       "    </tr>\n",
       "    <tr>\n",
       "      <th>6</th>\n",
       "      <td>{'knn__metric': 'euclidean', 'knn__n_neighbors': 51, 'knn__p': 3, 'knn__weights': 'uniform'}</td>\n",
       "      <td>0.76</td>\n",
       "      <td>0.04</td>\n",
       "      <td>0.61</td>\n",
       "      <td>0.16</td>\n",
       "    </tr>\n",
       "    <tr>\n",
       "      <th>7</th>\n",
       "      <td>{'knn__metric': 'euclidean', 'knn__n_neighbors': 51, 'knn__p': 3, 'knn__weights': 'distance'}</td>\n",
       "      <td>1.00</td>\n",
       "      <td>0.00</td>\n",
       "      <td>0.64</td>\n",
       "      <td>0.13</td>\n",
       "    </tr>\n",
       "    <tr>\n",
       "      <th>8</th>\n",
       "      <td>{'knn__metric': 'euclidean', 'knn__n_neighbors': 101, 'knn__p': 3, 'knn__weights': 'uniform'}</td>\n",
       "      <td>0.65</td>\n",
       "      <td>0.04</td>\n",
       "      <td>0.54</td>\n",
       "      <td>0.22</td>\n",
       "    </tr>\n",
       "    <tr>\n",
       "      <th>9</th>\n",
       "      <td>{'knn__metric': 'euclidean', 'knn__n_neighbors': 101, 'knn__p': 3, 'knn__weights': 'distance'}</td>\n",
       "      <td>1.00</td>\n",
       "      <td>0.00</td>\n",
       "      <td>0.58</td>\n",
       "      <td>0.21</td>\n",
       "    </tr>\n",
       "    <tr>\n",
       "      <th>10</th>\n",
       "      <td>{'knn__metric': 'manhattan', 'knn__n_neighbors': 5, 'knn__p': 3, 'knn__weights': 'uniform'}</td>\n",
       "      <td>0.97</td>\n",
       "      <td>0.01</td>\n",
       "      <td>0.72</td>\n",
       "      <td>0.21</td>\n",
       "    </tr>\n",
       "    <tr>\n",
       "      <th>11</th>\n",
       "      <td>{'knn__metric': 'manhattan', 'knn__n_neighbors': 5, 'knn__p': 3, 'knn__weights': 'distance'}</td>\n",
       "      <td>1.00</td>\n",
       "      <td>0.00</td>\n",
       "      <td>0.72</td>\n",
       "      <td>0.20</td>\n",
       "    </tr>\n",
       "    <tr>\n",
       "      <th>12</th>\n",
       "      <td>{'knn__metric': 'manhattan', 'knn__n_neighbors': 15, 'knn__p': 3, 'knn__weights': 'uniform'}</td>\n",
       "      <td>0.92</td>\n",
       "      <td>0.02</td>\n",
       "      <td>0.72</td>\n",
       "      <td>0.17</td>\n",
       "    </tr>\n",
       "    <tr>\n",
       "      <th>13</th>\n",
       "      <td>{'knn__metric': 'manhattan', 'knn__n_neighbors': 15, 'knn__p': 3, 'knn__weights': 'distance'}</td>\n",
       "      <td>1.00</td>\n",
       "      <td>0.00</td>\n",
       "      <td>0.72</td>\n",
       "      <td>0.17</td>\n",
       "    </tr>\n",
       "    <tr>\n",
       "      <th>14</th>\n",
       "      <td>{'knn__metric': 'manhattan', 'knn__n_neighbors': 21, 'knn__p': 3, 'knn__weights': 'uniform'}</td>\n",
       "      <td>0.90</td>\n",
       "      <td>0.03</td>\n",
       "      <td>0.72</td>\n",
       "      <td>0.16</td>\n",
       "    </tr>\n",
       "    <tr>\n",
       "      <th>15</th>\n",
       "      <td>{'knn__metric': 'manhattan', 'knn__n_neighbors': 21, 'knn__p': 3, 'knn__weights': 'distance'}</td>\n",
       "      <td>1.00</td>\n",
       "      <td>0.00</td>\n",
       "      <td>0.72</td>\n",
       "      <td>0.16</td>\n",
       "    </tr>\n",
       "    <tr>\n",
       "      <th>16</th>\n",
       "      <td>{'knn__metric': 'manhattan', 'knn__n_neighbors': 51, 'knn__p': 3, 'knn__weights': 'uniform'}</td>\n",
       "      <td>0.79</td>\n",
       "      <td>0.04</td>\n",
       "      <td>0.62</td>\n",
       "      <td>0.14</td>\n",
       "    </tr>\n",
       "    <tr>\n",
       "      <th>17</th>\n",
       "      <td>{'knn__metric': 'manhattan', 'knn__n_neighbors': 51, 'knn__p': 3, 'knn__weights': 'distance'}</td>\n",
       "      <td>1.00</td>\n",
       "      <td>0.00</td>\n",
       "      <td>0.65</td>\n",
       "      <td>0.12</td>\n",
       "    </tr>\n",
       "    <tr>\n",
       "      <th>18</th>\n",
       "      <td>{'knn__metric': 'manhattan', 'knn__n_neighbors': 101, 'knn__p': 3, 'knn__weights': 'uniform'}</td>\n",
       "      <td>0.68</td>\n",
       "      <td>0.05</td>\n",
       "      <td>0.59</td>\n",
       "      <td>0.19</td>\n",
       "    </tr>\n",
       "    <tr>\n",
       "      <th>19</th>\n",
       "      <td>{'knn__metric': 'manhattan', 'knn__n_neighbors': 101, 'knn__p': 3, 'knn__weights': 'distance'}</td>\n",
       "      <td>1.00</td>\n",
       "      <td>0.00</td>\n",
       "      <td>0.64</td>\n",
       "      <td>0.15</td>\n",
       "    </tr>\n",
       "    <tr>\n",
       "      <th>20</th>\n",
       "      <td>{'knn__metric': 'minkowski', 'knn__n_neighbors': 5, 'knn__p': 3, 'knn__weights': 'uniform'}</td>\n",
       "      <td>0.96</td>\n",
       "      <td>0.01</td>\n",
       "      <td>0.68</td>\n",
       "      <td>0.20</td>\n",
       "    </tr>\n",
       "    <tr>\n",
       "      <th>21</th>\n",
       "      <td>{'knn__metric': 'minkowski', 'knn__n_neighbors': 5, 'knn__p': 3, 'knn__weights': 'distance'}</td>\n",
       "      <td>1.00</td>\n",
       "      <td>0.00</td>\n",
       "      <td>0.69</td>\n",
       "      <td>0.20</td>\n",
       "    </tr>\n",
       "    <tr>\n",
       "      <th>22</th>\n",
       "      <td>{'knn__metric': 'minkowski', 'knn__n_neighbors': 15, 'knn__p': 3, 'knn__weights': 'uniform'}</td>\n",
       "      <td>0.90</td>\n",
       "      <td>0.03</td>\n",
       "      <td>0.68</td>\n",
       "      <td>0.17</td>\n",
       "    </tr>\n",
       "    <tr>\n",
       "      <th>23</th>\n",
       "      <td>{'knn__metric': 'minkowski', 'knn__n_neighbors': 15, 'knn__p': 3, 'knn__weights': 'distance'}</td>\n",
       "      <td>1.00</td>\n",
       "      <td>0.00</td>\n",
       "      <td>0.68</td>\n",
       "      <td>0.17</td>\n",
       "    </tr>\n",
       "    <tr>\n",
       "      <th>24</th>\n",
       "      <td>{'knn__metric': 'minkowski', 'knn__n_neighbors': 21, 'knn__p': 3, 'knn__weights': 'uniform'}</td>\n",
       "      <td>0.87</td>\n",
       "      <td>0.03</td>\n",
       "      <td>0.66</td>\n",
       "      <td>0.17</td>\n",
       "    </tr>\n",
       "    <tr>\n",
       "      <th>25</th>\n",
       "      <td>{'knn__metric': 'minkowski', 'knn__n_neighbors': 21, 'knn__p': 3, 'knn__weights': 'distance'}</td>\n",
       "      <td>1.00</td>\n",
       "      <td>0.00</td>\n",
       "      <td>0.67</td>\n",
       "      <td>0.17</td>\n",
       "    </tr>\n",
       "    <tr>\n",
       "      <th>26</th>\n",
       "      <td>{'knn__metric': 'minkowski', 'knn__n_neighbors': 51, 'knn__p': 3, 'knn__weights': 'uniform'}</td>\n",
       "      <td>0.75</td>\n",
       "      <td>0.04</td>\n",
       "      <td>0.60</td>\n",
       "      <td>0.19</td>\n",
       "    </tr>\n",
       "    <tr>\n",
       "      <th>27</th>\n",
       "      <td>{'knn__metric': 'minkowski', 'knn__n_neighbors': 51, 'knn__p': 3, 'knn__weights': 'distance'}</td>\n",
       "      <td>1.00</td>\n",
       "      <td>0.00</td>\n",
       "      <td>0.64</td>\n",
       "      <td>0.15</td>\n",
       "    </tr>\n",
       "    <tr>\n",
       "      <th>28</th>\n",
       "      <td>{'knn__metric': 'minkowski', 'knn__n_neighbors': 101, 'knn__p': 3, 'knn__weights': 'uniform'}</td>\n",
       "      <td>0.65</td>\n",
       "      <td>0.05</td>\n",
       "      <td>0.52</td>\n",
       "      <td>0.22</td>\n",
       "    </tr>\n",
       "    <tr>\n",
       "      <th>29</th>\n",
       "      <td>{'knn__metric': 'minkowski', 'knn__n_neighbors': 101, 'knn__p': 3, 'knn__weights': 'distance'}</td>\n",
       "      <td>1.00</td>\n",
       "      <td>0.00</td>\n",
       "      <td>0.56</td>\n",
       "      <td>0.24</td>\n",
       "    </tr>\n",
       "  </tbody>\n",
       "</table>\n",
       "</div>"
      ],
      "text/plain": [
       "                                                                                            params  \\\n",
       "0      {'knn__metric': 'euclidean', 'knn__n_neighbors': 5, 'knn__p': 3, 'knn__weights': 'uniform'}   \n",
       "1     {'knn__metric': 'euclidean', 'knn__n_neighbors': 5, 'knn__p': 3, 'knn__weights': 'distance'}   \n",
       "2     {'knn__metric': 'euclidean', 'knn__n_neighbors': 15, 'knn__p': 3, 'knn__weights': 'uniform'}   \n",
       "3    {'knn__metric': 'euclidean', 'knn__n_neighbors': 15, 'knn__p': 3, 'knn__weights': 'distance'}   \n",
       "4     {'knn__metric': 'euclidean', 'knn__n_neighbors': 21, 'knn__p': 3, 'knn__weights': 'uniform'}   \n",
       "5    {'knn__metric': 'euclidean', 'knn__n_neighbors': 21, 'knn__p': 3, 'knn__weights': 'distance'}   \n",
       "6     {'knn__metric': 'euclidean', 'knn__n_neighbors': 51, 'knn__p': 3, 'knn__weights': 'uniform'}   \n",
       "7    {'knn__metric': 'euclidean', 'knn__n_neighbors': 51, 'knn__p': 3, 'knn__weights': 'distance'}   \n",
       "8    {'knn__metric': 'euclidean', 'knn__n_neighbors': 101, 'knn__p': 3, 'knn__weights': 'uniform'}   \n",
       "9   {'knn__metric': 'euclidean', 'knn__n_neighbors': 101, 'knn__p': 3, 'knn__weights': 'distance'}   \n",
       "10     {'knn__metric': 'manhattan', 'knn__n_neighbors': 5, 'knn__p': 3, 'knn__weights': 'uniform'}   \n",
       "11    {'knn__metric': 'manhattan', 'knn__n_neighbors': 5, 'knn__p': 3, 'knn__weights': 'distance'}   \n",
       "12    {'knn__metric': 'manhattan', 'knn__n_neighbors': 15, 'knn__p': 3, 'knn__weights': 'uniform'}   \n",
       "13   {'knn__metric': 'manhattan', 'knn__n_neighbors': 15, 'knn__p': 3, 'knn__weights': 'distance'}   \n",
       "14    {'knn__metric': 'manhattan', 'knn__n_neighbors': 21, 'knn__p': 3, 'knn__weights': 'uniform'}   \n",
       "15   {'knn__metric': 'manhattan', 'knn__n_neighbors': 21, 'knn__p': 3, 'knn__weights': 'distance'}   \n",
       "16    {'knn__metric': 'manhattan', 'knn__n_neighbors': 51, 'knn__p': 3, 'knn__weights': 'uniform'}   \n",
       "17   {'knn__metric': 'manhattan', 'knn__n_neighbors': 51, 'knn__p': 3, 'knn__weights': 'distance'}   \n",
       "18   {'knn__metric': 'manhattan', 'knn__n_neighbors': 101, 'knn__p': 3, 'knn__weights': 'uniform'}   \n",
       "19  {'knn__metric': 'manhattan', 'knn__n_neighbors': 101, 'knn__p': 3, 'knn__weights': 'distance'}   \n",
       "20     {'knn__metric': 'minkowski', 'knn__n_neighbors': 5, 'knn__p': 3, 'knn__weights': 'uniform'}   \n",
       "21    {'knn__metric': 'minkowski', 'knn__n_neighbors': 5, 'knn__p': 3, 'knn__weights': 'distance'}   \n",
       "22    {'knn__metric': 'minkowski', 'knn__n_neighbors': 15, 'knn__p': 3, 'knn__weights': 'uniform'}   \n",
       "23   {'knn__metric': 'minkowski', 'knn__n_neighbors': 15, 'knn__p': 3, 'knn__weights': 'distance'}   \n",
       "24    {'knn__metric': 'minkowski', 'knn__n_neighbors': 21, 'knn__p': 3, 'knn__weights': 'uniform'}   \n",
       "25   {'knn__metric': 'minkowski', 'knn__n_neighbors': 21, 'knn__p': 3, 'knn__weights': 'distance'}   \n",
       "26    {'knn__metric': 'minkowski', 'knn__n_neighbors': 51, 'knn__p': 3, 'knn__weights': 'uniform'}   \n",
       "27   {'knn__metric': 'minkowski', 'knn__n_neighbors': 51, 'knn__p': 3, 'knn__weights': 'distance'}   \n",
       "28   {'knn__metric': 'minkowski', 'knn__n_neighbors': 101, 'knn__p': 3, 'knn__weights': 'uniform'}   \n",
       "29  {'knn__metric': 'minkowski', 'knn__n_neighbors': 101, 'knn__p': 3, 'knn__weights': 'distance'}   \n",
       "\n",
       "    mean_train_score  std_train_score  mean_test_score  std_test_score  \n",
       "0               0.97             0.01             0.70            0.21  \n",
       "1               1.00             0.00             0.70            0.20  \n",
       "2               0.90             0.03             0.70            0.17  \n",
       "3               1.00             0.00             0.71            0.17  \n",
       "4               0.88             0.03             0.68            0.16  \n",
       "5               1.00             0.00             0.70            0.16  \n",
       "6               0.76             0.04             0.61            0.16  \n",
       "7               1.00             0.00             0.64            0.13  \n",
       "8               0.65             0.04             0.54            0.22  \n",
       "9               1.00             0.00             0.58            0.21  \n",
       "10              0.97             0.01             0.72            0.21  \n",
       "11              1.00             0.00             0.72            0.20  \n",
       "12              0.92             0.02             0.72            0.17  \n",
       "13              1.00             0.00             0.72            0.17  \n",
       "14              0.90             0.03             0.72            0.16  \n",
       "15              1.00             0.00             0.72            0.16  \n",
       "16              0.79             0.04             0.62            0.14  \n",
       "17              1.00             0.00             0.65            0.12  \n",
       "18              0.68             0.05             0.59            0.19  \n",
       "19              1.00             0.00             0.64            0.15  \n",
       "20              0.96             0.01             0.68            0.20  \n",
       "21              1.00             0.00             0.69            0.20  \n",
       "22              0.90             0.03             0.68            0.17  \n",
       "23              1.00             0.00             0.68            0.17  \n",
       "24              0.87             0.03             0.66            0.17  \n",
       "25              1.00             0.00             0.67            0.17  \n",
       "26              0.75             0.04             0.60            0.19  \n",
       "27              1.00             0.00             0.64            0.15  \n",
       "28              0.65             0.05             0.52            0.22  \n",
       "29              1.00             0.00             0.56            0.24  "
      ]
     },
     "metadata": {},
     "output_type": "display_data"
    },
    {
     "data": {
      "text/html": [
       "<h3>Gráfico dos experimentos: </h3>"
      ],
      "text/plain": [
       "<IPython.core.display.HTML object>"
      ]
     },
     "metadata": {},
     "output_type": "display_data"
    },
    {
     "data": {
      "image/png": "[encoded data removed]",
      "text/plain": [
       "<Figure size 720x720 with 1 Axes>"
      ]
     },
     "metadata": {
      "needs_background": "light"
     },
     "output_type": "display_data"
    },
    {
     "data": {
      "text/html": [
       "<h3>Melhor Modelo: </h3>"
      ],
      "text/plain": [
       "<IPython.core.display.HTML object>"
      ]
     },
     "metadata": {},
     "output_type": "display_data"
    },
    {
     "data": {
      "text/html": [
       "<div>\n",
       "<style scoped>\n",
       "    .dataframe tbody tr th:only-of-type {\n",
       "        vertical-align: middle;\n",
       "    }\n",
       "\n",
       "    .dataframe tbody tr th {\n",
       "        vertical-align: top;\n",
       "    }\n",
       "\n",
       "    .dataframe thead th {\n",
       "        text-align: right;\n",
       "    }\n",
       "</style>\n",
       "<table border=\"1\" class=\"dataframe\">\n",
       "  <thead>\n",
       "    <tr style=\"text-align: right;\">\n",
       "      <th></th>\n",
       "      <th>params</th>\n",
       "      <th>mean_train_score</th>\n",
       "      <th>std_train_score</th>\n",
       "      <th>mean_test_score</th>\n",
       "      <th>std_test_score</th>\n",
       "    </tr>\n",
       "  </thead>\n",
       "  <tbody>\n",
       "    <tr>\n",
       "      <th>12</th>\n",
       "      <td>{'knn__metric': 'manhattan', 'knn__n_neighbors': 15, 'knn__p': 3, 'knn__weights': 'uniform'}</td>\n",
       "      <td>0.92</td>\n",
       "      <td>0.02</td>\n",
       "      <td>0.72</td>\n",
       "      <td>0.17</td>\n",
       "    </tr>\n",
       "  </tbody>\n",
       "</table>\n",
       "</div>"
      ],
      "text/plain": [
       "                                                                                          params  \\\n",
       "12  {'knn__metric': 'manhattan', 'knn__n_neighbors': 15, 'knn__p': 3, 'knn__weights': 'uniform'}   \n",
       "\n",
       "    mean_train_score  std_train_score  mean_test_score  std_test_score  \n",
       "12              0.92             0.02             0.72            0.17  "
      ]
     },
     "metadata": {},
     "output_type": "display_data"
    },
    {
     "data": {
      "text/html": [
       "<h5>Gráfico Matriz de Confusão: </h5>"
      ],
      "text/plain": [
       "<IPython.core.display.HTML object>"
      ]
     },
     "metadata": {},
     "output_type": "display_data"
    },
    {
     "data": {
      "image/png": "[encoded data removed]",
      "text/plain": [
       "<Figure size 576x576 with 1 Axes>"
      ]
     },
     "metadata": {
      "needs_background": "light"
     },
     "output_type": "display_data"
    },
    {
     "data": {
      "text/plain": [
       "Pipeline(steps=[('knn',\n",
       "                 KNeighborsClassifier(metric='manhattan', n_neighbors=15,\n",
       "                                      p=3))])"
      ]
     },
     "execution_count": 3,
     "metadata": {},
     "output_type": "execute_result"
    }
   ],
   "source": [
    "pipe = Pipeline([\n",
    "    ('knn', KNeighborsClassifier())\n",
    "])\n",
    "\n",
    "print(pipe.get_params().keys())\n",
    "\n",
    "parameters = {\n",
    "    'knn__weights': ['uniform', 'distance'],\n",
    "    'knn__n_neighbors': [5, 15, 21, 51, 101],\n",
    "    'knn__p': [3],\n",
    "    'knn__metric': ['euclidean', 'manhattan', 'minkowski']\n",
    "}\n",
    "grid_search(pipe, parameters, X_processed, database_train.y, database_train.cv_author, n_jobs=6)"
   ]
  },
  {
   "cell_type": "markdown",
   "metadata": {},
   "source": [
    "### Quantidade de vizinhos"
   ]
  },
  {
   "cell_type": "markdown",
   "metadata": {},
   "source": [
    "O número de vizinho define a quantia de vizinhos cuja distância será usada na classificação. Se utilizarmos cinco, a distância total considerada será a distância entre o indíviduo a ser classificado e seus 5 vizinhos mais próximos.\n",
    "\n",
    "Note que, os números de vizinhos utilizados serão sempre ímpares, para evitar empates na votação."
   ]
  },
  {
   "cell_type": "code",
   "execution_count": null,
   "metadata": {
    "scrolled": true
   },
   "outputs": [],
   "source": [
    "pipe = Pipeline([\n",
    "    ('knn', KNeighborsClassifier(weights='uniform', metric='manhattan'))\n",
    "])\n",
    "\n",
    "parameters = {\n",
    "    'knn__n_neighbors': [5, 15, 21, 51, 101]\n",
    "}\n",
    "grid_search(pipe, parameters, X_processed, database_train.y, database_train.cv_author, n_jobs=6)"
   ]
  },
  {
   "cell_type": "markdown",
   "metadata": {},
   "source": [
    "### Peso dos vizinhos\n",
    "Este parâmetro define de que forma os vizinhos irão influenciar o indivíduo a ser classificado: **uniforme** ou por  **distância**. Uniformemente significa que a distância não influencia no voto de cada vizinho e por distância significa que o peso será igual ao inverso da distância."
   ]
  },
  {
   "cell_type": "code",
   "execution_count": null,
   "metadata": {
    "scrolled": false
   },
   "outputs": [],
   "source": [
    "pipe = Pipeline([\n",
    "    ('knn', KNeighborsClassifier(n_neighbors = 15, metric = 'manhattan'))\n",
    "])\n",
    "\n",
    "parameters = {\n",
    "    'knn__weights': ['uniform', 'distance']\n",
    "}\n",
    "grid_search(pipe, parameters, X_processed, database_train.y, database_train.cv_author, n_jobs=6)"
   ]
  },
  {
   "cell_type": "markdown",
   "metadata": {},
   "source": [
    "### Algorithm\n",
    "Qual algoritmo será usado para computar os vizinhos mais próximos."
   ]
  },
  {
   "cell_type": "code",
   "execution_count": null,
   "metadata": {
    "scrolled": true
   },
   "outputs": [],
   "source": [
    "pipe = Pipeline([\n",
    "    ('knn', KNeighborsClassifier(n_neighbors = 15, metric = 'manhattan', weights=\"uniform\"))\n",
    "])\n",
    "\n",
    "parameters = {\n",
    "    'knn__algorithm': ['ball_tree', 'kd_tree', 'brute']\n",
    "}\n",
    "grid_search(pipe, parameters, X_processed, database_train.y, database_train.cv_author, n_jobs=6)"
   ]
  },
  {
   "cell_type": "markdown",
   "metadata": {},
   "source": [
    "O algoritmo usado não influencia na acurácia obtida. Considerando que estes computem os vizinhos próximos corretamente, este resultado é esperado."
   ]
  },
  {
   "cell_type": "markdown",
   "metadata": {},
   "source": [
    "### Cálculo de distância"
   ]
  },
  {
   "cell_type": "markdown",
   "metadata": {},
   "source": [
    "KNN é um algoritmo baseado em distância, desta forma, precisamos calcular a distância entre o indivíduo a ser classificado e seus vizinhos. A classe KNeighborsClassifier aceita o parâmetro de qual será a métrica será utilizada no cálculo da distância, como distância euclidiana ou de manhattan, por exemplo.\n",
    "\n",
    "No experimento utilizaremos a distâncias euclidiana, distância de Manhattan, de Chebyshev e de Minkowski.\n",
    "\n",
    "O parâmetro p é utilizando somente na distância de minkowski. Esta distância segue a seguinte fórmula:\n",
    "distância de minkowski = sum(|x - y|^p)^(1/p)"
   ]
  },
  {
   "cell_type": "code",
   "execution_count": null,
   "metadata": {
    "scrolled": false
   },
   "outputs": [],
   "source": [
    "pipe = Pipeline([\n",
    "    ('knn', KNeighborsClassifier(n_neighbors = 15, weights = 'uniform'))\n",
    "])\n",
    "\n",
    "parameters = {\n",
    "    'knn__metric': ['euclidean', 'manhattan', 'minkowski'],\n",
    "    'knn__p': [3]\n",
    "}\n",
    "grid_search(pipe, parameters, X_processed, database_train.y, database_train.cv_author, n_jobs=6)"
   ]
  },
  {
   "cell_type": "markdown",
   "metadata": {},
   "source": [
    "#### Distância de Minkowski"
   ]
  },
  {
   "cell_type": "markdown",
   "metadata": {},
   "source": [
    "Como visto no experimento acima, a distância de Minkowski reage pior do que as distâncias euclidiana e de Manhattan com p = 3. Portanto, testaremos como esta distância reage com p maiores.\n",
    "\n",
    "É importante notar que utilizar p = 1 é equivalente a distância de Manhattan e p = 2 é equivalente a distância euclidiana."
   ]
  },
  {
   "cell_type": "code",
   "execution_count": null,
   "metadata": {
    "scrolled": true
   },
   "outputs": [],
   "source": [
    "pipe = Pipeline([\n",
    "    ('knn', KNeighborsClassifier(n_neighbors = 15, weights = 'uniform'))\n",
    "])\n",
    "\n",
    "parameters = {\n",
    "    'knn__metric': ['minkowski'],\n",
    "    'knn__p': [3, 5, 10, 20]\n",
    "}\n",
    "grid_search(pipe, parameters, X_processed, database_train.y, database_train.cv_author, n_jobs=6)"
   ]
  },
  {
   "cell_type": "markdown",
   "metadata": {},
   "source": [
    "O experimento acima, nos mostra que p = 3 atinge o melhor resultado com a distância de Minkowski, portanto, vimos que as distâncias de Manhattan e euclidiana realmente reagem melhor ao nosso problema."
   ]
  }
 ],
 "metadata": {
  "kernelspec": {
   "display_name": "Python 3",
   "language": "python",
   "name": "python3"
  },
  "language_info": {
   "codemirror_mode": {
    "name": "ipython",
    "version": 3
   },
   "file_extension": ".py",
   "mimetype": "text/x-python",
   "name": "python",
   "nbconvert_exporter": "python",
   "pygments_lexer": "ipython3",
   "version": "3.8.4"
  }
 },
 "nbformat": 4,
 "nbformat_minor": 1
}
