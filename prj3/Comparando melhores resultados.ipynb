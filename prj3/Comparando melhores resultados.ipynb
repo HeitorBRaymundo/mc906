{
 "cells": [
  {
   "cell_type": "code",
   "execution_count": 1,
   "metadata": {},
   "outputs": [],
   "source": [
    "from sklearn.ensemble import RandomForestClassifier\n",
    "from sklearn.pipeline import Pipeline\n",
    "from data import load_database_train\n",
    "from sklearn.neighbors import KNeighborsClassifier\n",
    "from preprocessing import InterpolateRawData\n",
    "from train import grid_search, scikit_train_validate\n",
    "from cross_validation import cv_folds_author\n",
    "import numpy as np\n",
    "from plotter import plot_all_readings\n",
    "from preprocessing import InterpolateRawData\n",
    "from sklearn.neural_network import MLPClassifier\n",
    "\n",
    "%matplotlib inline"
   ]
  },
  {
   "cell_type": "code",
   "execution_count": 2,
   "metadata": {},
   "outputs": [],
   "source": [
    "database_train = load_database_train()\n",
    "X_processed = InterpolateRawData(num_samples=40).fit_transform(database_train.X)"
   ]
  },
  {
   "cell_type": "markdown",
   "metadata": {},
   "source": [
    "## KNN"
   ]
  },
  {
   "cell_type": "code",
   "execution_count": 3,
   "metadata": {},
   "outputs": [],
   "source": [
    "pipe = Pipeline(steps=[('knn',\n",
    "                 KNeighborsClassifier(metric='manhattan', n_neighbors=15,\n",
    "                                      p=3))])"
   ]
  },
  {
   "cell_type": "markdown",
   "metadata": {},
   "source": [
    "## Neural Network"
   ]
  },
  {
   "cell_type": "code",
   "execution_count": null,
   "metadata": {},
   "outputs": [],
   "source": [
    "import pickle\n",
    "\n",
    "pipe = Pipeline([\n",
    "    ('interpolate', InterpolateRawData(num_samples=40)),\n",
    "    ('mlp', MLPClassifier(random_state=0, hidden_layer_sizes=(100, 10),\n",
    "                          max_iter=100000, alpha=0.0001, learning_rate_init=0.0005))\n",
    "])\n",
    "\n",
    "pipe.fit(database_train.X, database_train.y)\n",
    " \n",
    "with open('models/best_fully_connected.pkl', 'wb') as file:\n",
    "    pickle.dump(pipe, file)"
   ]
  },
  {
   "cell_type": "markdown",
   "metadata": {},
   "source": [
    "## Random forest"
   ]
  },
  {
   "cell_type": "code",
   "execution_count": null,
   "metadata": {},
   "outputs": [],
   "source": [
    "pipe = Pipeline(steps=[('random', RandomForestClassifier(class_weight='balanced', max_depth=10, max_features=0.6))])\n",
    "parameters = {}\n",
    "grid_search(pipe, parameters, X_processed, database_train.y, database_train.cv_author, n_jobs=6)"
   ]
  }
 ],
 "metadata": {
  "kernelspec": {
   "display_name": "Python 3",
   "language": "python",
   "name": "python3"
  },
  "language_info": {
   "codemirror_mode": {
    "name": "ipython",
    "version": 3
   },
   "file_extension": ".py",
   "mimetype": "text/x-python",
   "name": "python",
   "nbconvert_exporter": "python",
   "pygments_lexer": "ipython3",
   "version": "3.6.9"
  }
 },
 "nbformat": 4,
 "nbformat_minor": 2
}
